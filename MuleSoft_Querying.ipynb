{
 "cells": [
  {
   "cell_type": "code",
   "execution_count": 1,
   "metadata": {},
   "outputs": [],
   "source": [
    "import sqlite3\n"
   ]
  },
  {
   "cell_type": "code",
   "execution_count": 3,
   "metadata": {},
   "outputs": [
    {
     "name": "stdout",
     "output_type": "stream",
     "text": [
      "Database created and Successfully Connected to SQLite\n",
      "SQLite Database Version is:  [('3.32.3',)]\n"
     ]
    }
   ],
   "source": [
    "try:\n",
    "    sqliteConnection = sqlite3.connect('MSmovies.db')\n",
    "    cursor = sqliteConnection.cursor()\n",
    "    print(\"Database created and Successfully Connected to SQLite\")\n",
    "\n",
    "    sqlite_select_Query = \"select sqlite_version();\"\n",
    "    cursor.execute(sqlite_select_Query)\n",
    "    record = cursor.fetchall()\n",
    "    print(\"SQLite Database Version is: \", record)\n",
    "    \n",
    "except sqlite3.Error as error:\n",
    "    print(\"Error while connecting to sqlite\", error)\n"
   ]
  },
  {
   "cell_type": "code",
   "execution_count": 4,
   "metadata": {},
   "outputs": [
    {
     "name": "stdout",
     "output_type": "stream",
     "text": [
      "Command executed successfully\n"
     ]
    },
    {
     "data": {
      "text/plain": [
       "<sqlite3.Cursor at 0x285842b8dc0>"
      ]
     },
     "execution_count": 4,
     "metadata": {},
     "output_type": "execute_result"
    }
   ],
   "source": [
    "# Creating a table\n",
    "'''cursor.execute(\"\"\"CREATE TABLE Movies_Table (\n",
    "    Movie_Name     VARCHAR PRIMARY KEY,\n",
    "    Movie_Actor    VARCHAR,\n",
    "    Movie_Actress  VARCHAR,\n",
    "    Movie_Year     INTEGER,\n",
    "    Movie_director VARCHAR,\n",
    "    Movie_lang     VARCHAR\n",
    ")\"\"\")'''\n",
    "\n",
    "# Inserting data into table\n",
    "cursor.execute(\"INSERT INTO Movies_Table VALUES('Interstellar','Mathew McConaughey','Anna Hathaway','2014','Christopher Nolan','English')\")\n",
    "print(\"Command executed successfully\")\n",
    "cursor.execute(\"INSERT INTO Movies_Table VALUES('John Wick','Keenu Reeves','Bridget Moynahan','2014','Chad Stahelski','English')\")\n",
    "cursor.execute(\"INSERT INTO Movies_Table VALUES('Inception','Leonardo Dicaprio','Marion','2010','Christopher Nolan','English')\")\n",
    "cursor.execute(\"INSERT INTO Movies_Table VALUES('Logan','Hugh Jackman','Dafne Keen','2017','James Mangold','English')\")\n",
    "cursor.execute(\"INSERT INTO Movies_Table VALUES('Edge of Tomorrow','Tom Cruise','Emily Blunt','2014','Doung Liman','English')\")\n",
    "cursor.execute(\"INSERT INTO Movies_Table VALUES('Parasite','Choi Woo-shik','Park So-dam','2019','Bong Joon-ho','Korean')\")\n",
    "cursor.execute(\"INSERT INTO Movies_Table VALUES('Death Note ','Nat Wolff','Margaret Qualley','2017','Adam Wingard','Japneese')\")\n",
    "cursor.execute(\"INSERT INTO Movies_Table VALUES('Mirage ','Chino Darín','Adriana Ugarte','2018','Oriol Paulo','English')\")"
   ]
  },
  {
   "cell_type": "code",
   "execution_count": 5,
   "metadata": {},
   "outputs": [
    {
     "name": "stdout",
     "output_type": "stream",
     "text": [
      "('Interstellar', 'Mathew McConaughey', 'Anna Hathaway', 2014, 'Christopher Nolan', 'English')\n",
      "('John Wick', 'Keenu Reeves', 'Bridget Moynahan', 2014, 'Chad Stahelski', 'English')\n",
      "('Inception', 'Leonardo Dicaprio', 'Marion', 2010, 'Christopher Nolan', 'English')\n",
      "('Logan', 'Hugh Jackman', 'Dafne Keen', 2017, 'James Mangold', 'English')\n",
      "('Edge of Tomorrow', 'Tom Cruise', 'Emily Blunt', 2014, 'Doung Liman', 'English')\n",
      "('Parasite', 'Choi Woo-shik', 'Park So-dam', 2019, 'Bong Joon-ho', 'Korean')\n",
      "('Death Note ', 'Nat Wolff', 'Margaret Qualley', 2017, 'Adam Wingard', 'Japneese')\n",
      "('Mirage ', 'Chino Darín', 'Adriana Ugarte', 2018, 'Oriol Paulo', 'English')\n",
      "\n",
      "\n"
     ]
    }
   ],
   "source": [
    "cursor.execute(\"SELECT * FROM Movies_Table\")\n",
    "movie_list = cursor.fetchall()\n",
    "for i in movie_list:\n",
    "    print (i)\n",
    "print(\"\\n\")"
   ]
  },
  {
   "cell_type": "code",
   "execution_count": 6,
   "metadata": {},
   "outputs": [
    {
     "name": "stdout",
     "output_type": "stream",
     "text": [
      "Enter the actor name to print his movie:ridha\n",
      "Actor not found in the database!!\n",
      "The SQLite connection is closed\n"
     ]
    }
   ],
   "source": [
    "f=0\n",
    "name = input(\"Enter the actor name to print his movie:\")\n",
    "name = name.upper()         #to convert every input character to uppercase \n",
    "for i in movie_list:\n",
    "    t=i[1].upper()          #converted to uppercase to check with input name\n",
    "    if(t==name):\n",
    "        cursor.execute(\"SELECT * FROM Movies_Table WHERE Movie_Actor='i[1]'\")\n",
    "        mov_list = cursor.fetchall()\n",
    "        print(i)\n",
    "        f=1\n",
    "if(f==0):\n",
    "    print(\"Actor not found in the database!!\")\n",
    "    cursor.close()\n",
    "    sqliteConnection.close()\n",
    "    print(\"The SQLite connection is closed\")\n"
   ]
  },
  {
   "cell_type": "code",
   "execution_count": null,
   "metadata": {},
   "outputs": [],
   "source": []
  }
 ],
 "metadata": {
  "kernelspec": {
   "display_name": "Python 3",
   "language": "python",
   "name": "python3"
  },
  "language_info": {
   "codemirror_mode": {
    "name": "ipython",
    "version": 3
   },
   "file_extension": ".py",
   "mimetype": "text/x-python",
   "name": "python",
   "nbconvert_exporter": "python",
   "pygments_lexer": "ipython3",
   "version": "3.8.3"
  }
 },
 "nbformat": 4,
 "nbformat_minor": 4
}
